{
 "cells": [
  {
   "cell_type": "code",
   "execution_count": null,
   "id": "595dda74-59e3-4c7e-a198-796ad095ef42",
   "metadata": {},
   "outputs": [],
   "source": [
    "numpy statistical  "
   ]
  },
  {
   "cell_type": "code",
   "execution_count": 5,
   "id": "6dc978d6-2a2e-44a2-a157-dda8ba1ca62b",
   "metadata": {},
   "outputs": [
    {
     "name": "stdout",
     "output_type": "stream",
     "text": [
      "average temperature: 75.71428571428571\n"
     ]
    }
   ],
   "source": [
    "# mean\n",
    "# np.mean()\n",
    "temperature=np.array([72,68,74,80,79,82,75])\n",
    "avg_temp=np.mean(temperature)\n",
    "print('average temperature:',avg_temp)"
   ]
  },
  {
   "cell_type": "code",
   "execution_count": 4,
   "id": "9d7b41e4-4ac7-4be7-808c-d46cb8723beb",
   "metadata": {},
   "outputs": [
    {
     "data": {
      "text/plain": [
       "65000.0"
      ]
     },
     "execution_count": 4,
     "metadata": {},
     "output_type": "execute_result"
    }
   ],
   "source": [
    "# median - middle value\n",
    "# np.median()-median\n",
    "\n",
    "import numpy as np\n",
    "incomes=np.array([45000,55000,60000,70000,80000,90000])\n",
    "median_income=np.median(incomes)\n",
    "median_income\n"
   ]
  },
  {
   "cell_type": "code",
   "execution_count": 6,
   "id": "ee091c0a-415c-4c67-be31-6048e965af80",
   "metadata": {},
   "outputs": [
    {
     "data": {
      "text/plain": [
       "3.40587727318528"
      ]
     },
     "execution_count": 6,
     "metadata": {},
     "output_type": "execute_result"
    }
   ],
   "source": [
    "# standard deviation\n",
    "# np.std()\n",
    "\n",
    "classA=np.array([85,88,90,92,95])\n",
    "classB=np.array([70,80,85,95,100])\n",
    "np.std(classA)"
   ]
  },
  {
   "cell_type": "code",
   "execution_count": 7,
   "id": "d3f1fd24-f925-45c9-a626-8ef6f8929456",
   "metadata": {},
   "outputs": [
    {
     "data": {
      "text/plain": [
       "10.677078252031311"
      ]
     },
     "execution_count": 7,
     "metadata": {},
     "output_type": "execute_result"
    }
   ],
   "source": [
    "np.std(classB)"
   ]
  },
  {
   "cell_type": "code",
   "execution_count": 8,
   "id": "c55b5864-f27b-4185-9d02-5f0b3af7940d",
   "metadata": {},
   "outputs": [
    {
     "data": {
      "text/plain": [
       "0.25"
      ]
     },
     "execution_count": 8,
     "metadata": {},
     "output_type": "execute_result"
    }
   ],
   "source": [
    "# variance\n",
    "# np.variance()\n",
    "\n",
    "prd_a=np.array([4,3])\n",
    "prd_b=np.array([2,8])\n",
    "np.var(prd_a)"
   ]
  },
  {
   "cell_type": "code",
   "execution_count": 9,
   "id": "81986b36-c96e-492d-b078-40ab59a27485",
   "metadata": {},
   "outputs": [
    {
     "data": {
      "text/plain": [
       "9.0"
      ]
     },
     "execution_count": 9,
     "metadata": {},
     "output_type": "execute_result"
    }
   ],
   "source": [
    "np.var(prd_b)"
   ]
  },
  {
   "cell_type": "code",
   "execution_count": 12,
   "id": "c678c397-997f-4135-89e4-ca45a092b47d",
   "metadata": {},
   "outputs": [
    {
     "name": "stdout",
     "output_type": "stream",
     "text": [
      "min traffic traffic: 1200\n",
      "max traffic traffic: 1800\n"
     ]
    }
   ],
   "source": [
    "# min and max\n",
    "\n",
    "daily_traffic=np.array([1200,1350,1480,1650,1800,1550,1680])\n",
    "print('min traffic traffic:',np.min(daily_traffic))\n",
    "print('max traffic traffic:',np.max(daily_traffic))"
   ]
  },
  {
   "cell_type": "code",
   "execution_count": 13,
   "id": "040c3ab1-068e-4f17-b85b-aac444c99da2",
   "metadata": {},
   "outputs": [
    {
     "name": "stdout",
     "output_type": "stream",
     "text": [
      "total weekly sales: 46100\n"
     ]
    }
   ],
   "source": [
    "# sum\n",
    "# np.sum() -summation\n",
    "\n",
    "sales=np.array([5500,6200,4800,7200,6800,7500,8100])\n",
    "total_sales=np.sum(sales)\n",
    "print(\"total weekly sales:\",total_sales)"
   ]
  },
  {
   "cell_type": "code",
   "execution_count": 16,
   "id": "b1bd7e2b-8c2e-4bd4-969c-2289cfb4ff83",
   "metadata": {},
   "outputs": [
    {
     "name": "stdout",
     "output_type": "stream",
     "text": [
      "25th percentile: 95.5\n",
      "50th percentile(median): 110.0\n",
      "75th percentile: 125.0\n",
      "90th percentile: 134.0\n"
     ]
    }
   ],
   "source": [
    "# percentiles\n",
    "# np.percentile()\n",
    "\n",
    "test_scores=np.array([65,75,80,85,90,92,94,95,96,98,100,102,104,106,108,110,112,114,116,118,120,122,124,126,128,130,132,134,135,136,138])\n",
    "print('25th percentile:',np.percentile(test_scores,25))\n",
    "print('50th percentile(median):',np.percentile(test_scores,50))\n",
    "print('75th percentile:',np.percentile(test_scores,75))\n",
    "print('90th percentile:',np.percentile(test_scores,90))"
   ]
  },
  {
   "cell_type": "code",
   "execution_count": 17,
   "id": "276e554f-2a7d-4964-adae-9ffa3b434a33",
   "metadata": {},
   "outputs": [],
   "source": [
    "# numpy I/O\n",
    "\n",
    "# 1. binary format-.npy files\n",
    "\n",
    "arr=np.array([1,2,3,4,5])\n",
    "np.save('my_array.npy',arr)"
   ]
  },
  {
   "cell_type": "code",
   "execution_count": 18,
   "id": "525ac45b-9102-4b15-b159-6cec39f99e42",
   "metadata": {},
   "outputs": [
    {
     "name": "stdout",
     "output_type": "stream",
     "text": [
      "[1 2 3 4 5]\n"
     ]
    }
   ],
   "source": [
    "# np.load()-load a .npy file back into python\n",
    "\n",
    "loaded_arr=np.load('my_array.npy')\n",
    "print(loaded_arr)"
   ]
  },
  {
   "cell_type": "code",
   "execution_count": 19,
   "id": "543f0195-3de1-48e2-a4dc-b9257e95a12b",
   "metadata": {},
   "outputs": [],
   "source": [
    "# 2. text format-.txt or .csv file\n",
    "# np.savetxt()-save to a human readable form\n",
    "\n",
    "arr=np.array([[1,2,3],[4,5,6]])\n",
    "np.savetxt('array.txt',arr)"
   ]
  },
  {
   "cell_type": "code",
   "execution_count": null,
   "id": "1fd63b8e-fbf7-4eea-a29a-f8b4bcd9444e",
   "metadata": {},
   "outputs": [],
   "source": []
  }
 ],
 "metadata": {
  "kernelspec": {
   "display_name": "Python 3 (ipykernel)",
   "language": "python",
   "name": "python3"
  },
  "language_info": {
   "codemirror_mode": {
    "name": "ipython",
    "version": 3
   },
   "file_extension": ".py",
   "mimetype": "text/x-python",
   "name": "python",
   "nbconvert_exporter": "python",
   "pygments_lexer": "ipython3",
   "version": "3.12.7"
  }
 },
 "nbformat": 4,
 "nbformat_minor": 5
}
