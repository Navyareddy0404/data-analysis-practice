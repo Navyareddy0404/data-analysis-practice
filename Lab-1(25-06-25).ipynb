{
 "cells": [
  {
   "cell_type": "markdown",
   "id": "74c01cbc-bf37-42a3-9d08-b9e5368f51d3",
   "metadata": {},
   "source": [
    "# Lab1_ANP-D0855_june25th\n",
    "### 1. Calculate the multiplication and sum of two numbers"
   ]
  },
  {
   "cell_type": "code",
   "execution_count": 1,
   "id": "60ac92fa-4534-486d-a370-0f1b73542f40",
   "metadata": {},
   "outputs": [
    {
     "name": "stdout",
     "output_type": "stream",
     "text": [
      "Sum of 10 and 5 is: 15\n",
      "Multiplication of 10 and 5 is: 50\n"
     ]
    }
   ],
   "source": [
    "# Two numbers\n",
    "a = 10\n",
    "b = 5\n",
    "\n",
    "# Sum\n",
    "sum_result = a + b\n",
    "\n",
    "# Multiplication\n",
    "mul_result = a * b\n",
    "\n",
    "print(\"Sum of\", a, \"and\", b, \"is:\", sum_result)\n",
    "print(\"Multiplication of\", a, \"and\", b, \"is:\", mul_result)"
   ]
  },
  {
   "cell_type": "markdown",
   "id": "ed8743ce-ef2e-465a-8162-41d85a2499f5",
   "metadata": {},
   "source": [
    "### 2. Declare two variables and print that which variable is largest using ternary operators"
   ]
  },
  {
   "cell_type": "code",
   "execution_count": 2,
   "id": "9ba8a3f4-a57d-4336-bf64-b8ed42c2920d",
   "metadata": {},
   "outputs": [
    {
     "name": "stdout",
     "output_type": "stream",
     "text": [
      "The largest number is: 30\n"
     ]
    }
   ],
   "source": [
    "x=20\n",
    "y=30\n",
    "\n",
    "#  ternary operator\n",
    "\n",
    "largest_num = x if x > y else y\n",
    "print('The largest number is:',largest_num)"
   ]
  },
  {
   "cell_type": "markdown",
   "id": "f220be4e-f725-4f16-b4c5-f070e80d46d5",
   "metadata": {},
   "source": [
    "### 3.Take input from the user (name, age, and city) and print it in a formatted string."
   ]
  },
  {
   "cell_type": "code",
   "execution_count": 5,
   "id": "2806e3b4-066e-4cbc-8a96-b5ec11c4c3f7",
   "metadata": {},
   "outputs": [
    {
     "name": "stdin",
     "output_type": "stream",
     "text": [
      "Enter your name:  navya\n",
      "Enter your age: 20\n",
      "Enter your city:  bangalore\n"
     ]
    },
    {
     "name": "stdout",
     "output_type": "stream",
     "text": [
      "My name is navya, I am 20 years old, and I live in bangalore\n"
     ]
    }
   ],
   "source": [
    "name=input('Enter your name: ')\n",
    "age= int(input('Enter your age:'))\n",
    "city = input(\"Enter your city: \")\n",
    "\n",
    "print(f\"My name is {name}, I am {age} years old, and I live in {city}\")"
   ]
  },
  {
   "cell_type": "markdown",
   "id": "c5a6d116-8acb-4ba4-b1c2-b3944e8104af",
   "metadata": {},
   "source": [
    "### 4. Python program to find the area of a triangle whose sides are given"
   ]
  },
  {
   "cell_type": "code",
   "execution_count": 12,
   "id": "449c1b01-b63f-438a-88e7-7649fa995932",
   "metadata": {},
   "outputs": [
    {
     "name": "stdin",
     "output_type": "stream",
     "text": [
      "enter first side =  5\n",
      "enter second side =  6\n",
      "enter third side =  7\n"
     ]
    },
    {
     "name": "stdout",
     "output_type": "stream",
     "text": [
      "Area of the triangle is : 14.696938456699069\n"
     ]
    }
   ],
   "source": [
    "\n",
    "a=float(input(\"enter first side = \"))\n",
    "b=float(input(\"enter second side = \"))\n",
    "c=float(input(\"enter third side = \"))\n",
    "\n",
    "# semi-perimeter\n",
    "s=(a+b+c)/2\n",
    "\n",
    "#  area using heron's formula\n",
    "area_of_triangle = (s*(s-a)*(s-b)*(s-c))**0.5\n",
    "\n",
    "print('Area of the triangle is :', area_of_triangle)"
   ]
  },
  {
   "cell_type": "code",
   "execution_count": 8,
   "id": "949e1c0f-875c-4942-9b88-964cc8dd3a90",
   "metadata": {},
   "outputs": [
    {
     "name": "stdin",
     "output_type": "stream",
     "text": [
      "enter first side=  5\n",
      "enter second side=  7\n",
      "enter third side=  4\n"
     ]
    },
    {
     "name": "stdout",
     "output_type": "stream",
     "text": [
      "Area of the triangle is : 9.797958971132712\n"
     ]
    }
   ],
   "source": [
    "#  using math library\n",
    "import math\n",
    "#  using user input\n",
    "a=float(input(\"enter first side= \"))\n",
    "b=float(input(\"enter second side= \"))\n",
    "c=float(input(\"enter third side= \"))\n",
    "\n",
    "# semi-perimeter\n",
    "s=(a+b+c)/2\n",
    "\n",
    "#  area using heron's formula\n",
    "area_of_triangle = math.sqrt(s*(s-a)*(s-b)*(s-c))\n",
    "\n",
    "print('Area of the triangle is :', area_of_triangle)"
   ]
  },
  {
   "cell_type": "code",
   "execution_count": null,
   "id": "fe7991a4-b0d5-42a8-a78a-20e54c720735",
   "metadata": {},
   "outputs": [],
   "source": [
    "or"
   ]
  },
  {
   "cell_type": "code",
   "execution_count": 9,
   "id": "218b4ecf-38c9-46d8-9463-fd5fa77cc672",
   "metadata": {},
   "outputs": [
    {
     "name": "stdout",
     "output_type": "stream",
     "text": [
      "Area of the triangle is : 14.696938456699069\n"
     ]
    }
   ],
   "source": [
    "import math\n",
    "\n",
    "a=5\n",
    "b=6\n",
    "c=7\n",
    "\n",
    "# semi-perimeter\n",
    "s=(a+b+c)/2\n",
    "\n",
    "#  area using heron's formula\n",
    "area_of_triangle = math.sqrt(s*(s-a)*(s-b)*(s-c))\n",
    "\n",
    "print('Area of the triangle is :', area_of_triangle)"
   ]
  },
  {
   "cell_type": "code",
   "execution_count": null,
   "id": "659e1143-6ee6-4023-907f-e6717c370058",
   "metadata": {},
   "outputs": [],
   "source": [
    "or\n",
    "without using heron's formula"
   ]
  },
  {
   "cell_type": "code",
   "execution_count": 11,
   "id": "cc27c263-ed9c-4c5a-bb78-a7370ac643a5",
   "metadata": {},
   "outputs": [
    {
     "name": "stdin",
     "output_type": "stream",
     "text": [
      "Enter the base of the triangle:  6\n",
      "Enter the height of the triangle:  7\n"
     ]
    },
    {
     "name": "stdout",
     "output_type": "stream",
     "text": [
      "Area if the triangle: 21.0\n"
     ]
    }
   ],
   "source": [
    "base=float(input(\"Enter the base of the triangle: \"))\n",
    "height=float(input(\"Enter the height of the triangle: \"))\n",
    "\n",
    "area=0.5*base*height\n",
    "\n",
    "print(\"Area if the triangle:\",area)"
   ]
  },
  {
   "cell_type": "code",
   "execution_count": null,
   "id": "f83ebf01-8466-46dd-8d1f-cecee0407a1e",
   "metadata": {},
   "outputs": [],
   "source": []
  }
 ],
 "metadata": {
  "kernelspec": {
   "display_name": "Python 3 (ipykernel)",
   "language": "python",
   "name": "python3"
  },
  "language_info": {
   "codemirror_mode": {
    "name": "ipython",
    "version": 3
   },
   "file_extension": ".py",
   "mimetype": "text/x-python",
   "name": "python",
   "nbconvert_exporter": "python",
   "pygments_lexer": "ipython3",
   "version": "3.12.7"
  }
 },
 "nbformat": 4,
 "nbformat_minor": 5
}
