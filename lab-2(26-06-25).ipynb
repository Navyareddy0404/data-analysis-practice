{
 "cells": [
  {
   "cell_type": "markdown",
   "id": "a98fee18-d334-4071-8764-324f02244a5b",
   "metadata": {},
   "source": [
    "# LAB - 2 "
   ]
  },
  {
   "cell_type": "markdown",
   "id": "42841d64-5b09-4733-92f4-4ba578f129f5",
   "metadata": {},
   "source": [
    "### 1. Using input() function take one number from the user and using ternary operators\n",
    "### check whether the number is even or odd"
   ]
  },
  {
   "cell_type": "code",
   "execution_count": 9,
   "id": "345356bc-46cc-4160-a3bc-1e67d539a0ad",
   "metadata": {},
   "outputs": [
    {
     "name": "stdin",
     "output_type": "stream",
     "text": [
      "Enter a number: 7\n"
     ]
    },
    {
     "name": "stdout",
     "output_type": "stream",
     "text": [
      "The number 7 is odd\n"
     ]
    }
   ],
   "source": [
    "num = int(input(\"Enter a number:\"))\n",
    "# ternary operator to check even or odd \n",
    "result =  \"even\" if num % 2 == 0 else \"odd\"\n",
    "\n",
    "print(f\"The number {num} is {result}\")"
   ]
  },
  {
   "cell_type": "markdown",
   "id": "0911f041-1b4e-4bbc-9091-6d6e2a8ea58b",
   "metadata": {},
   "source": [
    "### 2. Using input function take two number and then swap the number"
   ]
  },
  {
   "cell_type": "code",
   "execution_count": 10,
   "id": "112e43eb-3bdc-4d19-b7ee-3080ffa55e82",
   "metadata": {},
   "outputs": [
    {
     "name": "stdin",
     "output_type": "stream",
     "text": [
      "enter first number: 6\n",
      "enter second number  5\n"
     ]
    },
    {
     "name": "stdout",
     "output_type": "stream",
     "text": [
      "after swapping:\n",
      "a = 5\n",
      "b = 6\n"
     ]
    }
   ],
   "source": [
    "a = int(input(\"enter first number:\"))\n",
    "b = int(input(\"enter second number \"))\n",
    "\n",
    "a,b = b,a\n",
    "\n",
    "print(\"after swapping:\")\n",
    "print(\"a =\",a)\n",
    "print(\"b =\",b)"
   ]
  },
  {
   "cell_type": "markdown",
   "id": "eab219e9-b41a-4bca-82cd-b9705eab2db0",
   "metadata": {},
   "source": [
    "### 3. Write a Program to Convert Kilometers to Miles"
   ]
  },
  {
   "cell_type": "code",
   "execution_count": 4,
   "id": "07d0a6c8-42ab-4eb1-b430-9b318e653090",
   "metadata": {},
   "outputs": [
    {
     "name": "stdin",
     "output_type": "stream",
     "text": [
      "enter diatance in kilometers:  54\n"
     ]
    },
    {
     "name": "stdout",
     "output_type": "stream",
     "text": [
      "54.0 kilometers is equal to 33.554034 miles.\n"
     ]
    }
   ],
   "source": [
    "kilometers = float(input(\"enter diatance in kilometers: \"))\n",
    "\n",
    "# 1 km = 0.621371 miles\n",
    "\n",
    "miles = kilometers*0.621371\n",
    "\n",
    "print(f\"{kilometers} kilometers is equal to {miles} miles.\")\n",
    "\n",
    "                   "
   ]
  },
  {
   "cell_type": "markdown",
   "id": "f80a7c48-981c-4fd3-8a6c-cf044b3453f7",
   "metadata": {},
   "source": [
    "### 4. Find the Simple Interest on Rs. 200 for 5 years at 5% per year"
   ]
  },
  {
   "cell_type": "code",
   "execution_count": 5,
   "id": "2baa9ac1-5246-456a-ae6e-84fdace0b624",
   "metadata": {},
   "outputs": [
    {
     "name": "stdout",
     "output_type": "stream",
     "text": [
      "simple interest is :  50.0\n"
     ]
    }
   ],
   "source": [
    "profit = 200\n",
    "time = 5\n",
    "rate = 5\n",
    "\n",
    "#  simple interest formula\n",
    "simple_interest = (profit*time*rate)/100\n",
    "\n",
    "print(\"simple interest is : \",simple_interest )"
   ]
  },
  {
   "cell_type": "code",
   "execution_count": null,
   "id": "2c1698f8-431e-4c38-8630-85b7efffbdd4",
   "metadata": {},
   "outputs": [],
   "source": []
  }
 ],
 "metadata": {
  "kernelspec": {
   "display_name": "Python 3 (ipykernel)",
   "language": "python",
   "name": "python3"
  },
  "language_info": {
   "codemirror_mode": {
    "name": "ipython",
    "version": 3
   },
   "file_extension": ".py",
   "mimetype": "text/x-python",
   "name": "python",
   "nbconvert_exporter": "python",
   "pygments_lexer": "ipython3",
   "version": "3.12.7"
  }
 },
 "nbformat": 4,
 "nbformat_minor": 5
}
