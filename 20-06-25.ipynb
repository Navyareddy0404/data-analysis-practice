{
 "cells": [
  {
   "cell_type": "code",
   "execution_count": 1,
   "id": "7334a41b-ec62-4067-96da-72fc436b1d74",
   "metadata": {},
   "outputs": [
    {
     "name": "stdout",
     "output_type": "stream",
     "text": [
      "2.2.2\n"
     ]
    }
   ],
   "source": [
    "import pandas as pd\n",
    "print(pd.__version__)"
   ]
  },
  {
   "cell_type": "code",
   "execution_count": 2,
   "id": "86d55742-cb1a-4574-b6ae-26fe9e95109c",
   "metadata": {},
   "outputs": [
    {
     "name": "stdout",
     "output_type": "stream",
     "text": [
      "    name  age       city\n",
      "0  alice   25  bangalore\n",
      "1    bob   30    chennai\n",
      "2   mani   28     london\n",
      "<class 'pandas.core.frame.DataFrame'>\n",
      "RangeIndex: 3 entries, 0 to 2\n",
      "Data columns (total 3 columns):\n",
      " #   Column  Non-Null Count  Dtype \n",
      "---  ------  --------------  ----- \n",
      " 0   name    3 non-null      object\n",
      " 1   age     3 non-null      int64 \n",
      " 2   city    3 non-null      object\n",
      "dtypes: int64(1), object(2)\n",
      "memory usage: 204.0+ bytes\n"
     ]
    }
   ],
   "source": [
    "data={'name':['alice','bob','mani'],\n",
    "     'age':[25,30,28],\n",
    "     'city':['bangalore','chennai','london']}\n",
    "df=pd.DataFrame(data)\n",
    "print(df)\n",
    "\n",
    "#  to get info for dataframe\n",
    "\n",
    "df.info()"
   ]
  },
  {
   "cell_type": "code",
   "execution_count": null,
   "id": "c20df7ec-a880-41eb-ad44-3ad46a671da5",
   "metadata": {},
   "outputs": [],
   "source": [
    "# to fetch records top\n",
    "df.head()\n",
    "# to fetch records bottom\n",
    "df.tail()\n",
    "# to fetch records randomly\n",
    "df.sample()"
   ]
  },
  {
   "cell_type": "code",
   "execution_count": 8,
   "id": "3a595d8b-bf3a-4b0b-9b40-6590b864ced8",
   "metadata": {},
   "outputs": [
    {
     "name": "stdout",
     "output_type": "stream",
     "text": [
      "     stdid           Stdnt Name  Hindi  English\n",
      "0  stdid01     Koguru Varshitha     56       58\n",
      "1  stdid02             ANUSHA C     65       69\n",
      "2  stdid03              Navya.S     76       70\n",
      "3  stdid04  S Preethi Verdhini      87       82\n",
      "4  stdid05                padma     92       94\n",
      "5  stdid06                priya     66       62\n",
      "6  stdid07              chithra     77       79\n",
      "7  stdid08                  anu     95       91\n",
      "8  stdid09                indhu    100       88\n",
      "9  stdid10                madhu     82       82\n"
     ]
    }
   ],
   "source": [
    "import pandas as pd\n",
    " #creating Dataframe\n",
    " #creating Dictionary\n",
    "data1={'stdid':['stdid01','stdid02','stdid03','stdid04','stdid05','stdid06','stdid07','stdid08','stdid09','stdid10'],\n",
    " 'Stdnt Name':['Koguru Varshitha','ANUSHA C','Navya.S','S Preethi Verdhini ','padma','priya','chithra','anu','indhu','madhu'],\n",
    " 'Hindi':[56,65,76,87,92,66,77,95,100,82],\n",
    " 'English':[58,69,70,82,94,62,79,91,88,82]\n",
    " }\n",
    " #Creating pandas dataframe\n",
    "df=pd.DataFrame(data1)\n",
    "print(df)\n",
    "\n"
   ]
  },
  {
   "cell_type": "code",
   "execution_count": 9,
   "id": "e4ebf717-b685-4888-8c87-d139a4b74f07",
   "metadata": {},
   "outputs": [
    {
     "name": "stdout",
     "output_type": "stream",
     "text": [
      "<class 'pandas.core.frame.DataFrame'>\n",
      "RangeIndex: 10 entries, 0 to 9\n",
      "Data columns (total 4 columns):\n",
      " #   Column      Non-Null Count  Dtype \n",
      "---  ------      --------------  ----- \n",
      " 0   stdid       10 non-null     object\n",
      " 1   Stdnt Name  10 non-null     object\n",
      " 2   Hindi       10 non-null     int64 \n",
      " 3   English     10 non-null     int64 \n",
      "dtypes: int64(2), object(2)\n",
      "memory usage: 452.0+ bytes\n"
     ]
    }
   ],
   "source": [
    "#to get information of df\n",
    "df.info()"
   ]
  },
  {
   "cell_type": "code",
   "execution_count": 10,
   "id": "31fb2147-e084-482b-8d83-5bd796004504",
   "metadata": {},
   "outputs": [
    {
     "data": {
      "text/html": [
       "<div>\n",
       "<style scoped>\n",
       "    .dataframe tbody tr th:only-of-type {\n",
       "        vertical-align: middle;\n",
       "    }\n",
       "\n",
       "    .dataframe tbody tr th {\n",
       "        vertical-align: top;\n",
       "    }\n",
       "\n",
       "    .dataframe thead th {\n",
       "        text-align: right;\n",
       "    }\n",
       "</style>\n",
       "<table border=\"1\" class=\"dataframe\">\n",
       "  <thead>\n",
       "    <tr style=\"text-align: right;\">\n",
       "      <th></th>\n",
       "      <th>stdid</th>\n",
       "      <th>Stdnt Name</th>\n",
       "      <th>Hindi</th>\n",
       "      <th>English</th>\n",
       "    </tr>\n",
       "  </thead>\n",
       "  <tbody>\n",
       "    <tr>\n",
       "      <th>0</th>\n",
       "      <td>stdid01</td>\n",
       "      <td>Koguru Varshitha</td>\n",
       "      <td>56</td>\n",
       "      <td>58</td>\n",
       "    </tr>\n",
       "    <tr>\n",
       "      <th>1</th>\n",
       "      <td>stdid02</td>\n",
       "      <td>ANUSHA C</td>\n",
       "      <td>65</td>\n",
       "      <td>69</td>\n",
       "    </tr>\n",
       "    <tr>\n",
       "      <th>2</th>\n",
       "      <td>stdid03</td>\n",
       "      <td>Navya.S</td>\n",
       "      <td>76</td>\n",
       "      <td>70</td>\n",
       "    </tr>\n",
       "    <tr>\n",
       "      <th>3</th>\n",
       "      <td>stdid04</td>\n",
       "      <td>S Preethi Verdhini</td>\n",
       "      <td>87</td>\n",
       "      <td>82</td>\n",
       "    </tr>\n",
       "    <tr>\n",
       "      <th>4</th>\n",
       "      <td>stdid05</td>\n",
       "      <td>padma</td>\n",
       "      <td>92</td>\n",
       "      <td>94</td>\n",
       "    </tr>\n",
       "  </tbody>\n",
       "</table>\n",
       "</div>"
      ],
      "text/plain": [
       "     stdid           Stdnt Name  Hindi  English\n",
       "0  stdid01     Koguru Varshitha     56       58\n",
       "1  stdid02             ANUSHA C     65       69\n",
       "2  stdid03              Navya.S     76       70\n",
       "3  stdid04  S Preethi Verdhini      87       82\n",
       "4  stdid05                padma     92       94"
      ]
     },
     "execution_count": 10,
     "metadata": {},
     "output_type": "execute_result"
    }
   ],
   "source": [
    "#to fetch 6 records\n",
    "df.head()"
   ]
  },
  {
   "cell_type": "code",
   "execution_count": 11,
   "id": "b05c84e7-3fc2-4c77-b395-a5398b15dade",
   "metadata": {},
   "outputs": [
    {
     "data": {
      "text/html": [
       "<div>\n",
       "<style scoped>\n",
       "    .dataframe tbody tr th:only-of-type {\n",
       "        vertical-align: middle;\n",
       "    }\n",
       "\n",
       "    .dataframe tbody tr th {\n",
       "        vertical-align: top;\n",
       "    }\n",
       "\n",
       "    .dataframe thead th {\n",
       "        text-align: right;\n",
       "    }\n",
       "</style>\n",
       "<table border=\"1\" class=\"dataframe\">\n",
       "  <thead>\n",
       "    <tr style=\"text-align: right;\">\n",
       "      <th></th>\n",
       "      <th>stdid</th>\n",
       "      <th>Stdnt Name</th>\n",
       "      <th>Hindi</th>\n",
       "      <th>English</th>\n",
       "    </tr>\n",
       "  </thead>\n",
       "  <tbody>\n",
       "    <tr>\n",
       "      <th>5</th>\n",
       "      <td>stdid06</td>\n",
       "      <td>priya</td>\n",
       "      <td>66</td>\n",
       "      <td>62</td>\n",
       "    </tr>\n",
       "    <tr>\n",
       "      <th>6</th>\n",
       "      <td>stdid07</td>\n",
       "      <td>chithra</td>\n",
       "      <td>77</td>\n",
       "      <td>79</td>\n",
       "    </tr>\n",
       "    <tr>\n",
       "      <th>7</th>\n",
       "      <td>stdid08</td>\n",
       "      <td>anu</td>\n",
       "      <td>95</td>\n",
       "      <td>91</td>\n",
       "    </tr>\n",
       "    <tr>\n",
       "      <th>8</th>\n",
       "      <td>stdid09</td>\n",
       "      <td>indhu</td>\n",
       "      <td>100</td>\n",
       "      <td>88</td>\n",
       "    </tr>\n",
       "    <tr>\n",
       "      <th>9</th>\n",
       "      <td>stdid10</td>\n",
       "      <td>madhu</td>\n",
       "      <td>82</td>\n",
       "      <td>82</td>\n",
       "    </tr>\n",
       "  </tbody>\n",
       "</table>\n",
       "</div>"
      ],
      "text/plain": [
       "     stdid Stdnt Name  Hindi  English\n",
       "5  stdid06      priya     66       62\n",
       "6  stdid07    chithra     77       79\n",
       "7  stdid08        anu     95       91\n",
       "8  stdid09      indhu    100       88\n",
       "9  stdid10      madhu     82       82"
      ]
     },
     "execution_count": 11,
     "metadata": {},
     "output_type": "execute_result"
    }
   ],
   "source": [
    "#to fetch 6 records from bottom\n",
    "df.tail()"
   ]
  },
  {
   "cell_type": "code",
   "execution_count": 12,
   "id": "4ee7a151-4195-496e-9188-64d5f3944da3",
   "metadata": {},
   "outputs": [
    {
     "data": {
      "text/html": [
       "<div>\n",
       "<style scoped>\n",
       "    .dataframe tbody tr th:only-of-type {\n",
       "        vertical-align: middle;\n",
       "    }\n",
       "\n",
       "    .dataframe tbody tr th {\n",
       "        vertical-align: top;\n",
       "    }\n",
       "\n",
       "    .dataframe thead th {\n",
       "        text-align: right;\n",
       "    }\n",
       "</style>\n",
       "<table border=\"1\" class=\"dataframe\">\n",
       "  <thead>\n",
       "    <tr style=\"text-align: right;\">\n",
       "      <th></th>\n",
       "      <th>stdid</th>\n",
       "      <th>Stdnt Name</th>\n",
       "      <th>Hindi</th>\n",
       "      <th>English</th>\n",
       "    </tr>\n",
       "  </thead>\n",
       "  <tbody>\n",
       "    <tr>\n",
       "      <th>6</th>\n",
       "      <td>stdid07</td>\n",
       "      <td>chithra</td>\n",
       "      <td>77</td>\n",
       "      <td>79</td>\n",
       "    </tr>\n",
       "    <tr>\n",
       "      <th>3</th>\n",
       "      <td>stdid04</td>\n",
       "      <td>S Preethi Verdhini</td>\n",
       "      <td>87</td>\n",
       "      <td>82</td>\n",
       "    </tr>\n",
       "    <tr>\n",
       "      <th>8</th>\n",
       "      <td>stdid09</td>\n",
       "      <td>indhu</td>\n",
       "      <td>100</td>\n",
       "      <td>88</td>\n",
       "    </tr>\n",
       "    <tr>\n",
       "      <th>0</th>\n",
       "      <td>stdid01</td>\n",
       "      <td>Koguru Varshitha</td>\n",
       "      <td>56</td>\n",
       "      <td>58</td>\n",
       "    </tr>\n",
       "  </tbody>\n",
       "</table>\n",
       "</div>"
      ],
      "text/plain": [
       "     stdid           Stdnt Name  Hindi  English\n",
       "6  stdid07              chithra     77       79\n",
       "3  stdid04  S Preethi Verdhini      87       82\n",
       "8  stdid09                indhu    100       88\n",
       "0  stdid01     Koguru Varshitha     56       58"
      ]
     },
     "execution_count": 12,
     "metadata": {},
     "output_type": "execute_result"
    }
   ],
   "source": [
    "#to fetch random data\n",
    "df.sample(4)"
   ]
  },
  {
   "cell_type": "code",
   "execution_count": 13,
   "id": "d776658b-598d-40ac-9605-2ec8b008acdd",
   "metadata": {},
   "outputs": [
    {
     "name": "stdout",
     "output_type": "stream",
     "text": [
      "shape of the Dataframe\n",
      "No of Rows: 10\n",
      "No of Columns: 4\n"
     ]
    }
   ],
   "source": [
    "#to display shape of the df\n",
    "print(\"shape of the Dataframe\")\n",
    "print(\"No of Rows:\",df.shape[0])\n",
    "print(\"No of Columns:\",df.shape[1])"
   ]
  },
  {
   "cell_type": "code",
   "execution_count": 14,
   "id": "1cf7e0c5-4827-45bd-8e55-a01a1f289db0",
   "metadata": {},
   "outputs": [
    {
     "name": "stdout",
     "output_type": "stream",
     "text": [
      "      stdid           Stdnt Name  Hindi  English\n",
      "0   stdid01     Koguru Varshitha     56       58\n",
      "1   stdid02             ANUSHA C     65       69\n",
      "2   stdid03              Navya.S     76       70\n",
      "3   stdid04  S Preethi Verdhini      87       82\n",
      "4   stdid05                padma     92       94\n",
      "5   stdid06                priya     66       62\n",
      "6   stdid07              chithra     77       79\n",
      "7   stdid08                  anu     95       91\n",
      "8   stdid09                indhu    100       88\n",
      "9   stdid10                madhu     82       82\n",
      "10  stdid11                Priya     58       89\n"
     ]
    }
   ],
   "source": [
    "df.loc[len(df)]=['stdid11','Priya',58,89]\n",
    "print(df)"
   ]
  },
  {
   "cell_type": "code",
   "execution_count": 15,
   "id": "de339024-9094-4f25-a76f-db984a91316a",
   "metadata": {},
   "outputs": [
    {
     "name": "stdout",
     "output_type": "stream",
     "text": [
      "     stdid           Stdnt Name  Hindi  English\n",
      "0  stdid01     Koguru Varshitha     56       58\n",
      "1  stdid02             ANUSHA C     65       69\n",
      "2  stdid03              Navya.S     76       70\n",
      "3  stdid04  S Preethi Verdhini      87       82\n",
      "4  stdid05                padma     92       94\n",
      "5  stdid06                priya     66       62\n",
      "6  stdid07              chithra     77       79\n",
      "7  stdid08                  anu     95       91\n",
      "8  stdid09                indhu    100       88\n",
      "9  stdid10                madhu     82       82\n"
     ]
    }
   ],
   "source": [
    "#to delete a row\n",
    "df=df.drop(df.index[10])\n",
    "print(df)"
   ]
  },
  {
   "cell_type": "code",
   "execution_count": 16,
   "id": "143a9dda-d481-42f8-aee3-ace0d1a011d8",
   "metadata": {},
   "outputs": [
    {
     "name": "stdout",
     "output_type": "stream",
     "text": [
      "     stdid           Stdnt Name  English\n",
      "0  stdid01     Koguru Varshitha       58\n",
      "1  stdid02             ANUSHA C       69\n",
      "2  stdid03              Navya.S       70\n",
      "3  stdid04  S Preethi Verdhini        82\n",
      "4  stdid05                padma       94\n",
      "5  stdid06                priya       62\n",
      "6  stdid07              chithra       79\n",
      "7  stdid08                  anu       91\n",
      "8  stdid09                indhu       88\n",
      "9  stdid10                madhu       82\n"
     ]
    }
   ],
   "source": [
    "#to delete coloumn\n",
    "Hindi_column=df.pop('Hindi')\n",
    "print(df)"
   ]
  },
  {
   "cell_type": "code",
   "execution_count": 17,
   "id": "56f8a833-159d-436e-a6d3-40e4da90cd2f",
   "metadata": {},
   "outputs": [
    {
     "name": "stdout",
     "output_type": "stream",
     "text": [
      "   Product Region  Sales\n",
      "0    Shirt   East    100\n",
      "1    Pants   West    200\n",
      "2    Frock   East    140\n",
      "3    Socks  South    300\n",
      "4  Headset   East    260\n",
      "5    Shoes  North    180\n"
     ]
    }
   ],
   "source": [
    "import pandas as pd\n",
    " #step1:Creating dataframe\n",
    "data={\n",
    " 'Product':['Shirt','Pants','Frock','Socks','Headset','Shoes'],\n",
    " 'Region':['East','West','East','South','East','North'],\n",
    " 'Sales':[100,200,140,300,260,180]\n",
    "}\n",
    "df=pd.DataFrame(data)\n",
    "print(df)"
   ]
  },
  {
   "cell_type": "code",
   "execution_count": 18,
   "id": "711a8a0d-4c3b-4f1c-82c5-e11e0c838a27",
   "metadata": {},
   "outputs": [
    {
     "name": "stdout",
     "output_type": "stream",
     "text": [
      "\n",
      " Filtered(Sales>150):\n",
      "   Product Region  Sales\n",
      "1    Pants   West    200\n",
      "3    Socks  South    300\n",
      "4  Headset   East    260\n",
      "5    Shoes  North    180\n"
     ]
    }
   ],
   "source": [
    "#filter the data---sales>150\n",
    "High_sales=df[df['Sales']>150]\n",
    "print(\"\\n Filtered(Sales>150):\")\n",
    "print(High_sales)"
   ]
  },
  {
   "cell_type": "code",
   "execution_count": 19,
   "id": "aac46b1d-5981-46a1-92d8-47fc43a5dfb3",
   "metadata": {},
   "outputs": [
    {
     "name": "stdout",
     "output_type": "stream",
     "text": [
      "\n",
      " Total sales by product:\n",
      "   Product  Sales\n",
      "0    Frock    140\n",
      "1  Headset    260\n",
      "2    Pants    200\n",
      "3    Shirt    100\n",
      "4    Shoes    180\n",
      "5    Socks    300\n"
     ]
    }
   ],
   "source": [
    "#Group by product and calculating totalsales\n",
    "Grouped_sales=df.groupby('Product')['Sales'].sum().reset_index()\n",
    "print(\"\\n Total sales by product:\")\n",
    "print(Grouped_sales)"
   ]
  },
  {
   "cell_type": "code",
   "execution_count": 22,
   "id": "adb29cce-59a9-4126-9feb-3a0b32b25c7f",
   "metadata": {},
   "outputs": [
    {
     "name": "stdout",
     "output_type": "stream",
     "text": [
      "\n",
      " Sorted  by Sales(Descending):\n",
      "   Product Region  Sales\n",
      "3    Socks  South    300\n",
      "4  Headset   East    260\n",
      "1    Pants   West    200\n",
      "5    Shoes  North    180\n",
      "2    Frock   East    140\n",
      "0    Shirt   East    100\n"
     ]
    }
   ],
   "source": [
    "#sorting in Descending in order\n",
    "Sorted_df=df.sort_values(by='Sales',ascending=False)\n",
    "print(\"\\n Sorted  by Sales(Descending):\")\n",
    "print(Sorted_df)"
   ]
  },
  {
   "cell_type": "code",
   "execution_count": 23,
   "id": "8a9f3b5e-07d4-406a-8e24-7e9acc1c5d81",
   "metadata": {},
   "outputs": [
    {
     "data": {
      "text/html": [
       "<div>\n",
       "<style scoped>\n",
       "    .dataframe tbody tr th:only-of-type {\n",
       "        vertical-align: middle;\n",
       "    }\n",
       "\n",
       "    .dataframe tbody tr th {\n",
       "        vertical-align: top;\n",
       "    }\n",
       "\n",
       "    .dataframe thead th {\n",
       "        text-align: right;\n",
       "    }\n",
       "</style>\n",
       "<table border=\"1\" class=\"dataframe\">\n",
       "  <thead>\n",
       "    <tr style=\"text-align: right;\">\n",
       "      <th></th>\n",
       "      <th>Sales</th>\n",
       "    </tr>\n",
       "  </thead>\n",
       "  <tbody>\n",
       "    <tr>\n",
       "      <th>count</th>\n",
       "      <td>6.000000</td>\n",
       "    </tr>\n",
       "    <tr>\n",
       "      <th>mean</th>\n",
       "      <td>196.666667</td>\n",
       "    </tr>\n",
       "    <tr>\n",
       "      <th>std</th>\n",
       "      <td>74.206918</td>\n",
       "    </tr>\n",
       "    <tr>\n",
       "      <th>min</th>\n",
       "      <td>100.000000</td>\n",
       "    </tr>\n",
       "    <tr>\n",
       "      <th>25%</th>\n",
       "      <td>150.000000</td>\n",
       "    </tr>\n",
       "    <tr>\n",
       "      <th>50%</th>\n",
       "      <td>190.000000</td>\n",
       "    </tr>\n",
       "    <tr>\n",
       "      <th>75%</th>\n",
       "      <td>245.000000</td>\n",
       "    </tr>\n",
       "    <tr>\n",
       "      <th>max</th>\n",
       "      <td>300.000000</td>\n",
       "    </tr>\n",
       "  </tbody>\n",
       "</table>\n",
       "</div>"
      ],
      "text/plain": [
       "            Sales\n",
       "count    6.000000\n",
       "mean   196.666667\n",
       "std     74.206918\n",
       "min    100.000000\n",
       "25%    150.000000\n",
       "50%    190.000000\n",
       "75%    245.000000\n",
       "max    300.000000"
      ]
     },
     "execution_count": 23,
     "metadata": {},
     "output_type": "execute_result"
    }
   ],
   "source": [
    "df.describe()"
   ]
  },
  {
   "cell_type": "code",
   "execution_count": null,
   "id": "478ccaf3-31a9-4db9-9636-bfa71d071c2f",
   "metadata": {},
   "outputs": [],
   "source": []
  }
 ],
 "metadata": {
  "kernelspec": {
   "display_name": "Python 3 (ipykernel)",
   "language": "python",
   "name": "python3"
  },
  "language_info": {
   "codemirror_mode": {
    "name": "ipython",
    "version": 3
   },
   "file_extension": ".py",
   "mimetype": "text/x-python",
   "name": "python",
   "nbconvert_exporter": "python",
   "pygments_lexer": "ipython3",
   "version": "3.12.7"
  }
 },
 "nbformat": 4,
 "nbformat_minor": 5
}
