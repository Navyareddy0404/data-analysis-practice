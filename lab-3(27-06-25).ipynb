{
 "cells": [
  {
   "cell_type": "markdown",
   "id": "9e1e0008-7eb7-480c-ac79-76b4cba19f9b",
   "metadata": {},
   "source": [
    "# Lab - 3"
   ]
  },
  {
   "cell_type": "markdown",
   "id": "3c330adf-d756-43d7-adc2-d5bb4f082b17",
   "metadata": {},
   "source": [
    "### 1. Python program to check leap year"
   ]
  },
  {
   "cell_type": "code",
   "execution_count": 1,
   "id": "d5abcf5e-c097-40e0-a351-1c2d84c1988a",
   "metadata": {},
   "outputs": [
    {
     "name": "stdin",
     "output_type": "stream",
     "text": [
      "Enter a year:  2025\n"
     ]
    },
    {
     "name": "stdout",
     "output_type": "stream",
     "text": [
      "2025 is not  a leap year.\n"
     ]
    }
   ],
   "source": [
    "year = int(input(\"Enter a year: \"))\n",
    "\n",
    "if (year % 4 == 0 and year %100 == 0) or (year % 400 == 0): \n",
    "    print(f\"{year} is a leap year.\")\n",
    "else:\n",
    "    print(f\"{year} is not  a leap year.\")"
   ]
  },
  {
   "cell_type": "markdown",
   "id": "81cc93a6-6596-46f3-8734-de2ca435aafd",
   "metadata": {},
   "source": [
    "### 2. Python Program to Find the Largest Among Three Numbers"
   ]
  },
  {
   "cell_type": "code",
   "execution_count": 7,
   "id": "b4ccc154-89db-4a9c-b2e9-ca5652c38c90",
   "metadata": {},
   "outputs": [
    {
     "name": "stdin",
     "output_type": "stream",
     "text": [
      "Enter first number:  6\n",
      "Enter second number:  4\n",
      "Enter third number:  8\n"
     ]
    },
    {
     "name": "stdout",
     "output_type": "stream",
     "text": [
      "Largest number is:  8.0\n"
     ]
    }
   ],
   "source": [
    "a = float(input(\"Enter first number: \"))\n",
    "b = float(input(\"Enter second number: \"))\n",
    "c = float(input(\"Enter third number: \"))\n",
    "\n",
    "if a >= b and a >= c:\n",
    "    print(\"Largest number is : \",a)\n",
    "elif b >= a and b >= c:\n",
    "    print(\"Largest number is: \",b)\n",
    "else:\n",
    "    print(\"Largest number is: \",c)"
   ]
  },
  {
   "cell_type": "markdown",
   "id": "19034adf-1c7c-4a4c-abc4-9a1c4fed5730",
   "metadata": {},
   "source": [
    "### 3. Python Program to Check if a lNumber is Positive, Negative or 0"
   ]
  },
  {
   "cell_type": "code",
   "execution_count": 8,
   "id": "230e5c18-4abe-4857-bc8c-ba9f81bd6d67",
   "metadata": {},
   "outputs": [
    {
     "name": "stdin",
     "output_type": "stream",
     "text": [
      "enter a number:  6\n"
     ]
    },
    {
     "name": "stdout",
     "output_type": "stream",
     "text": [
      "The number is positive.\n"
     ]
    }
   ],
   "source": [
    "num = float(input(\"enter a number: \"))\n",
    "\n",
    "if num > 0 :\n",
    "    print(\"The number is positive.\")\n",
    "elif num < 0:\n",
    "    print(\"The number is negative.\")\n",
    "else:\n",
    "    print(\"The number is zero.\")"
   ]
  },
  {
   "cell_type": "markdown",
   "id": "c29ff03b-db5b-4d85-8dc6-8005cbc7c3a2",
   "metadata": {},
   "source": [
    "### 4. A toy vendor supplies three types of toys: Battery Based Toys, Key-based Toys, \n",
    "### and Electrical Charging Based Toys. The vendor gives a discount of 10% on orders for battery-based toys \n",
    "### if the order is for more than Rs. 1000. On orders of more than Rs. 100 for key-based toys, a discount of 5% is given, \n",
    "### and a discount of 10% is given on orders for electrical charging based toys of value more than Rs. 508. \n",
    "### Assume that the numeric codes 1,2 and 3 are used for battery based toys, key-based toys, \n",
    "### and electrical charging based toys respectively. Write a program that reads the product code and the order amount \n",
    "### and prints out the net amount that the customer is required to pay after the discount"
   ]
  },
  {
   "cell_type": "code",
   "execution_count": 9,
   "id": "aff90759-1c81-46f2-b29b-236cf195d89c",
   "metadata": {},
   "outputs": [
    {
     "name": "stdout",
     "output_type": "stream",
     "text": [
      "Toy Types:\n",
      " 1 - Battery Based \n",
      " 2 - Key-Based \n",
      " 3 - Electrical Charging Based\n"
     ]
    },
    {
     "name": "stdin",
     "output_type": "stream",
     "text": [
      "Enter product code (1/2/3):  1\n",
      "Enter order amount:  1500\n"
     ]
    },
    {
     "name": "stdout",
     "output_type": "stream",
     "text": [
      "Discount applied: Rs. 150.0\n",
      "Net amount to pay: Rs. 1350.0\n"
     ]
    }
   ],
   "source": [
    "# Input: toy type code and order amount\n",
    "print(\"Toy Types:\\n 1 - Battery Based \\n 2 - Key-Based \\n 3 - Electrical Charging Based\")\n",
    "code = int(input(\"Enter product code (1/2/3): \"))\n",
    "amount = float(input(\"Enter order amount: \"))\n",
    "\n",
    "# Apply discount based on toy type and order amount\n",
    "# Battery Based Toys\n",
    "if code == 1:  \n",
    "    if amount > 1000:\n",
    "        discount = amount * 0.10\n",
    "    else:\n",
    "        discount = 0\n",
    "# Key-Based Toys\n",
    "elif code == 2:  \n",
    "    if amount > 100:\n",
    "        discount = amount * 0.05\n",
    "    else:\n",
    "        discount = 0\n",
    " # Electrical Charging Based Toys        \n",
    "elif code == 3: \n",
    "    if amount > 500:\n",
    "        discount = amount * 0.10\n",
    "    else:\n",
    "        discount = 0\n",
    "else:\n",
    "    print(\"Invalid product code.\")\n",
    "    \n",
    "\n",
    "\n",
    "# Calculate and display net amount\n",
    "net_amount = amount - discount\n",
    "if amount > 0:\n",
    "    print(f\"Discount applied: Rs. {discount}\")\n",
    "    print(f\"Net amount to pay: Rs. {net_amount}\")"
   ]
  },
  {
   "cell_type": "code",
   "execution_count": null,
   "id": "dbb41944-ffb6-49d9-9523-1b07e08b758e",
   "metadata": {},
   "outputs": [],
   "source": []
  }
 ],
 "metadata": {
  "kernelspec": {
   "display_name": "Python 3 (ipykernel)",
   "language": "python",
   "name": "python3"
  },
  "language_info": {
   "codemirror_mode": {
    "name": "ipython",
    "version": 3
   },
   "file_extension": ".py",
   "mimetype": "text/x-python",
   "name": "python",
   "nbconvert_exporter": "python",
   "pygments_lexer": "ipython3",
   "version": "3.12.7"
  }
 },
 "nbformat": 4,
 "nbformat_minor": 5
}
