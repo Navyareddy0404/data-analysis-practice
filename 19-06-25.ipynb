{
 "cells": [
  {
   "cell_type": "markdown",
   "id": "94ce0794-c84a-4a67-87fb-86f9e9d8157d",
   "metadata": {},
   "source": [
    " # Pandas"
   ]
  },
  {
   "cell_type": "code",
   "execution_count": 1,
   "id": "d2b7cea2-6365-4fad-ad89-1d494593e33c",
   "metadata": {},
   "outputs": [],
   "source": [
    "import pandas as pd"
   ]
  },
  {
   "cell_type": "markdown",
   "id": "c190c286-0345-4146-958b-a56e3055af5b",
   "metadata": {},
   "source": [
    "# Series"
   ]
  },
  {
   "cell_type": "code",
   "execution_count": 3,
   "id": "f6170885-3b9b-4c24-8403-fcdeee94a117",
   "metadata": {},
   "outputs": [
    {
     "name": "stdout",
     "output_type": "stream",
     "text": [
      "a    10\n",
      "b    20\n",
      "c    30\n",
      "dtype: int64\n"
     ]
    }
   ],
   "source": [
    "# creating series with index\n",
    "x=pd.Series([10,20,30],index=['a','b','c'])\n",
    "print(x)"
   ]
  },
  {
   "cell_type": "code",
   "execution_count": 4,
   "id": "b0ca3160-a49b-4e7b-825c-c61ed469d4c6",
   "metadata": {},
   "outputs": [
    {
     "data": {
      "text/plain": [
       "0    10\n",
       "1    20\n",
       "2    30\n",
       "dtype: int64"
      ]
     },
     "execution_count": 4,
     "metadata": {},
     "output_type": "execute_result"
    }
   ],
   "source": [
    "# creating series with default index\n",
    "s1=pd.Series([10,20,30])\n",
    "s1"
   ]
  },
  {
   "cell_type": "code",
   "execution_count": 6,
   "id": "9e37a8bf-e1be-4a1a-921b-152c783746f2",
   "metadata": {},
   "outputs": [
    {
     "name": "stdout",
     "output_type": "stream",
     "text": [
      "january      1200\n",
      "february    10000\n",
      "march        2000\n",
      "april        1800\n",
      "may           800\n",
      "Name: monthly sales(USD), dtype: int64\n"
     ]
    }
   ],
   "source": [
    "# months in a year\n",
    "months=['january','february','march','april','may']\n",
    "# sales data\n",
    "sales=[1200,10000,2000,1800,800]\n",
    "# creating pandas series with month as index\n",
    "sales_series=pd.Series(sales,index=months,name='monthly sales(USD)')\n",
    "# display the series\n",
    "print(sales_series)"
   ]
  },
  {
   "cell_type": "markdown",
   "id": "84ca9050-b3d9-41a0-8058-62137d3c1c84",
   "metadata": {},
   "source": [
    "# dataframe"
   ]
  },
  {
   "cell_type": "code",
   "execution_count": 8,
   "id": "880cfef9-089c-43e5-a3c7-f246738cee3d",
   "metadata": {},
   "outputs": [
    {
     "name": "stdout",
     "output_type": "stream",
     "text": [
      "    name  age       city\n",
      "0  alice   25  bangalore\n",
      "1    bob   30    chennai\n"
     ]
    }
   ],
   "source": [
    "data={'name':['alice','bob'],\n",
    "     'age':[25,30],\n",
    "     'city':['bangalore','chennai']}\n",
    "df=pd.DataFrame(data)\n",
    "print(df)"
   ]
  },
  {
   "cell_type": "code",
   "execution_count": 9,
   "id": "152cea39-d7c5-4b14-a354-0c10ae5484ca",
   "metadata": {},
   "outputs": [
    {
     "name": "stdout",
     "output_type": "stream",
     "text": [
      "    name  age       city\n",
      "0  alice   25  bangalore\n",
      "1    bob   30    chennai\n",
      "2   mani   28     london\n"
     ]
    }
   ],
   "source": [
    "data={'name':['alice','bob','mani'],\n",
    "     'age':[25,30,28],\n",
    "     'city':['bangalore','chennai','london']}\n",
    "df=pd.DataFrame(data)\n",
    "print(df)"
   ]
  },
  {
   "cell_type": "code",
   "execution_count": 12,
   "id": "b887d6e2-84bf-4b18-92e4-7a0df46ea90d",
   "metadata": {},
   "outputs": [
    {
     "data": {
      "text/html": [
       "<div>\n",
       "<style scoped>\n",
       "    .dataframe tbody tr th:only-of-type {\n",
       "        vertical-align: middle;\n",
       "    }\n",
       "\n",
       "    .dataframe tbody tr th {\n",
       "        vertical-align: top;\n",
       "    }\n",
       "\n",
       "    .dataframe thead th {\n",
       "        text-align: right;\n",
       "    }\n",
       "</style>\n",
       "<table border=\"1\" class=\"dataframe\">\n",
       "  <thead>\n",
       "    <tr style=\"text-align: right;\">\n",
       "      <th></th>\n",
       "      <th>name</th>\n",
       "      <th>age</th>\n",
       "      <th>city</th>\n",
       "      <th>email</th>\n",
       "    </tr>\n",
       "  </thead>\n",
       "  <tbody>\n",
       "    <tr>\n",
       "      <th>0</th>\n",
       "      <td>alice</td>\n",
       "      <td>25</td>\n",
       "      <td>bangalore</td>\n",
       "      <td>alice@gmail.com</td>\n",
       "    </tr>\n",
       "    <tr>\n",
       "      <th>1</th>\n",
       "      <td>bob</td>\n",
       "      <td>30</td>\n",
       "      <td>chennai</td>\n",
       "      <td>bob@gmail.com</td>\n",
       "    </tr>\n",
       "  </tbody>\n",
       "</table>\n",
       "</div>"
      ],
      "text/plain": [
       "    name  age       city            email\n",
       "0  alice   25  bangalore  alice@gmail.com\n",
       "1    bob   30    chennai    bob@gmail.com"
      ]
     },
     "execution_count": 12,
     "metadata": {},
     "output_type": "execute_result"
    }
   ],
   "source": [
    "data={'name':['alice','bob'],\n",
    "     'age':[25,30],\n",
    "     'city':['bangalore','chennai']}\n",
    "\n",
    "#  adding new columns\n",
    "\n",
    "df['email']=['alice@gmail.com','bob@gmail.com']\n",
    "df"
   ]
  },
  {
   "cell_type": "code",
   "execution_count": 13,
   "id": "b19d5926-484f-42bb-ba51-b361920884f4",
   "metadata": {},
   "outputs": [
    {
     "data": {
      "text/html": [
       "<div>\n",
       "<style scoped>\n",
       "    .dataframe tbody tr th:only-of-type {\n",
       "        vertical-align: middle;\n",
       "    }\n",
       "\n",
       "    .dataframe tbody tr th {\n",
       "        vertical-align: top;\n",
       "    }\n",
       "\n",
       "    .dataframe thead th {\n",
       "        text-align: right;\n",
       "    }\n",
       "</style>\n",
       "<table border=\"1\" class=\"dataframe\">\n",
       "  <thead>\n",
       "    <tr style=\"text-align: right;\">\n",
       "      <th></th>\n",
       "      <th>name</th>\n",
       "      <th>age</th>\n",
       "      <th>city</th>\n",
       "      <th>email</th>\n",
       "    </tr>\n",
       "  </thead>\n",
       "  <tbody>\n",
       "    <tr>\n",
       "      <th>0</th>\n",
       "      <td>nan</td>\n",
       "      <td>25</td>\n",
       "      <td>bangalore</td>\n",
       "      <td>alice@gmail.com</td>\n",
       "    </tr>\n",
       "    <tr>\n",
       "      <th>1</th>\n",
       "      <td>pan</td>\n",
       "      <td>30</td>\n",
       "      <td>chennai</td>\n",
       "      <td>bob@gmail.com</td>\n",
       "    </tr>\n",
       "  </tbody>\n",
       "</table>\n",
       "</div>"
      ],
      "text/plain": [
       "  name  age       city            email\n",
       "0  nan   25  bangalore  alice@gmail.com\n",
       "1  pan   30    chennai    bob@gmail.com"
      ]
     },
     "execution_count": 13,
     "metadata": {},
     "output_type": "execute_result"
    }
   ],
   "source": [
    "#  adding new rows\n",
    "\n",
    "df['name']=['nan','pan']\n",
    "df"
   ]
  },
  {
   "cell_type": "code",
   "execution_count": null,
   "id": "e85e6b0a-9119-4742-8c46-b7f9fa7b4b4c",
   "metadata": {},
   "outputs": [],
   "source": []
  },
  {
   "cell_type": "code",
   "execution_count": 28,
   "id": "786ae624-c04d-475c-8496-c701830972b9",
   "metadata": {},
   "outputs": [
    {
     "data": {
      "text/html": [
       "<div>\n",
       "<style scoped>\n",
       "    .dataframe tbody tr th:only-of-type {\n",
       "        vertical-align: middle;\n",
       "    }\n",
       "\n",
       "    .dataframe tbody tr th {\n",
       "        vertical-align: top;\n",
       "    }\n",
       "\n",
       "    .dataframe thead th {\n",
       "        text-align: right;\n",
       "    }\n",
       "</style>\n",
       "<table border=\"1\" class=\"dataframe\">\n",
       "  <thead>\n",
       "    <tr style=\"text-align: right;\">\n",
       "      <th></th>\n",
       "      <th>name</th>\n",
       "      <th>age</th>\n",
       "      <th>city</th>\n",
       "      <th>phone</th>\n",
       "      <th>address</th>\n",
       "    </tr>\n",
       "  </thead>\n",
       "  <tbody>\n",
       "    <tr>\n",
       "      <th>0</th>\n",
       "      <td>alice</td>\n",
       "      <td>25</td>\n",
       "      <td>bangalore</td>\n",
       "      <td>234657</td>\n",
       "      <td>jugyfc</td>\n",
       "    </tr>\n",
       "    <tr>\n",
       "      <th>1</th>\n",
       "      <td>bob</td>\n",
       "      <td>30</td>\n",
       "      <td>chennai</td>\n",
       "      <td>747798</td>\n",
       "      <td>hfrsdxf</td>\n",
       "    </tr>\n",
       "  </tbody>\n",
       "</table>\n",
       "</div>"
      ],
      "text/plain": [
       "    name  age       city   phone  address\n",
       "0  alice   25  bangalore  234657   jugyfc\n",
       "1    bob   30    chennai  747798  hfrsdxf"
      ]
     },
     "execution_count": 28,
     "metadata": {},
     "output_type": "execute_result"
    }
   ],
   "source": [
    "data={'name':['alice','bob'],\n",
    "     'age':[25,30],\n",
    "     'city':['bangalore','chennai']}\n",
    "df=pd.DataFrame(data)\n",
    "# adding multiple cols\n",
    "df[['phone','address']]=pd.DataFrame({'phone':[234657,747798],\n",
    "                      'address':['jugyfc','hfrsdxf']})\n",
    "df"
   ]
  },
  {
   "cell_type": "code",
   "execution_count": null,
   "id": "da9b3110-2f97-47fc-8876-8d14d51561fa",
   "metadata": {},
   "outputs": [],
   "source": []
  },
  {
   "cell_type": "code",
   "execution_count": 24,
   "id": "adc504dd-5c4c-47d5-bc74-ec68ecf3c792",
   "metadata": {},
   "outputs": [
    {
     "data": {
      "text/html": [
       "<div>\n",
       "<style scoped>\n",
       "    .dataframe tbody tr th:only-of-type {\n",
       "        vertical-align: middle;\n",
       "    }\n",
       "\n",
       "    .dataframe tbody tr th {\n",
       "        vertical-align: top;\n",
       "    }\n",
       "\n",
       "    .dataframe thead th {\n",
       "        text-align: right;\n",
       "    }\n",
       "</style>\n",
       "<table border=\"1\" class=\"dataframe\">\n",
       "  <thead>\n",
       "    <tr style=\"text-align: right;\">\n",
       "      <th></th>\n",
       "      <th>name</th>\n",
       "      <th>age</th>\n",
       "      <th>email</th>\n",
       "      <th>city</th>\n",
       "    </tr>\n",
       "  </thead>\n",
       "  <tbody>\n",
       "    <tr>\n",
       "      <th>0</th>\n",
       "      <td>alice</td>\n",
       "      <td>25</td>\n",
       "      <td>alice@gmail.com</td>\n",
       "      <td>bangalore</td>\n",
       "    </tr>\n",
       "    <tr>\n",
       "      <th>1</th>\n",
       "      <td>bob</td>\n",
       "      <td>30</td>\n",
       "      <td>bob@gmail.com</td>\n",
       "      <td>chennai</td>\n",
       "    </tr>\n",
       "  </tbody>\n",
       "</table>\n",
       "</div>"
      ],
      "text/plain": [
       "    name  age            email       city\n",
       "0  alice   25  alice@gmail.com  bangalore\n",
       "1    bob   30    bob@gmail.com    chennai"
      ]
     },
     "execution_count": 24,
     "metadata": {},
     "output_type": "execute_result"
    }
   ],
   "source": [
    "\n",
    "data1={'name':['alice','bob'],\n",
    "     'age':[25,30],\n",
    "     'city':['bangalore','chennai']}\n",
    "\n",
    "df1=pd.DataFrame(data1)\n",
    "\n",
    "#  adding new columns\n",
    "new_col='email'\n",
    "value=['alice@gmail.com','bob@gmail.com']\n",
    "\n",
    "\n",
    "# add column in specific position\n",
    "\n",
    "insert_index=2\n",
    "df1.insert(insert_index,new_col,value)\n",
    "df1"
   ]
  },
  {
   "cell_type": "code",
   "execution_count": 53,
   "id": "d8e28d78-61b3-4e4b-ae1d-26a8cfabc136",
   "metadata": {},
   "outputs": [
    {
     "name": "stdout",
     "output_type": "stream",
     "text": [
      "After inserting new column in 3rd position is:\n",
      "   math  GK\n",
      "0    75  55\n",
      "1    87  76\n",
      "2    54  43\n",
      "3    43  87\n",
      "4    76  89\n"
     ]
    }
   ],
   "source": [
    "\n",
    "data1 = pd.DataFrame({'math': [75, 87, 54, 43, 76]})\n",
    "\n",
    "# Insert new column as 3rd column (index 2)\n",
    "data1.insert(1, 'GK', [55, 76, 43, 87, 89])\n",
    "\n",
    "print(\"After inserting new column in 3rd position is:\")\n",
    "print(data1)\n",
    "\n"
   ]
  },
  {
   "cell_type": "code",
   "execution_count": 41,
   "id": "12dd1a3f-0317-4e0e-a1d7-f115fddd9038",
   "metadata": {},
   "outputs": [
    {
     "name": "stdout",
     "output_type": "stream",
     "text": [
      "    Name  Age      city\n",
      "0  Alice   25  Banglore\n",
      "1    Bob   30   Chennai\n",
      "2    Sam   21    london\n",
      "Adding new coloumn\n",
      "    Name  Age      city            email\n",
      "0  Alice   25  Banglore  Alice@gmail.com\n",
      "1    Bob   30   Chennai    Bob@gmail.com\n",
      "2    Sam   21    london    Sam@gmail.com\n"
     ]
    }
   ],
   "source": [
    "#add column in a specific position\n",
    "\n",
    "data2 = {'Name': ['Alice', 'Bob', 'Sam'],\n",
    "         'Age':[25, 30,21],\n",
    "         'city':['Banglore', 'Chennai', 'london']}\n",
    "df = pd.DataFrame(data2)\n",
    "print(df)\n",
    "print(\"Adding new coloumn\")\n",
    "df['email']=['Alice@gmail.com', 'Bob@gmail.com','Sam@gmail.com']\n",
    "print(df)\n",
    "\n",
    "#creating new coloumn 'Gender'"
   ]
  },
  {
   "cell_type": "code",
   "execution_count": 42,
   "id": "cb90db93-2992-487a-8ad8-84e22826093f",
   "metadata": {},
   "outputs": [
    {
     "data": {
      "text/html": [
       "<div>\n",
       "<style scoped>\n",
       "    .dataframe tbody tr th:only-of-type {\n",
       "        vertical-align: middle;\n",
       "    }\n",
       "\n",
       "    .dataframe tbody tr th {\n",
       "        vertical-align: top;\n",
       "    }\n",
       "\n",
       "    .dataframe thead th {\n",
       "        text-align: right;\n",
       "    }\n",
       "</style>\n",
       "<table border=\"1\" class=\"dataframe\">\n",
       "  <thead>\n",
       "    <tr style=\"text-align: right;\">\n",
       "      <th></th>\n",
       "      <th>Name</th>\n",
       "      <th>Age</th>\n",
       "      <th>Gender</th>\n",
       "      <th>city</th>\n",
       "      <th>email</th>\n",
       "    </tr>\n",
       "  </thead>\n",
       "  <tbody>\n",
       "    <tr>\n",
       "      <th>0</th>\n",
       "      <td>Alice</td>\n",
       "      <td>25</td>\n",
       "      <td>Female</td>\n",
       "      <td>Banglore</td>\n",
       "      <td>Alice@gmail.com</td>\n",
       "    </tr>\n",
       "    <tr>\n",
       "      <th>1</th>\n",
       "      <td>Bob</td>\n",
       "      <td>30</td>\n",
       "      <td>Male</td>\n",
       "      <td>Chennai</td>\n",
       "      <td>Bob@gmail.com</td>\n",
       "    </tr>\n",
       "    <tr>\n",
       "      <th>2</th>\n",
       "      <td>Sam</td>\n",
       "      <td>21</td>\n",
       "      <td>Male</td>\n",
       "      <td>london</td>\n",
       "      <td>Sam@gmail.com</td>\n",
       "    </tr>\n",
       "  </tbody>\n",
       "</table>\n",
       "</div>"
      ],
      "text/plain": [
       "    Name  Age  Gender      city            email\n",
       "0  Alice   25  Female  Banglore  Alice@gmail.com\n",
       "1    Bob   30    Male   Chennai    Bob@gmail.com\n",
       "2    Sam   21    Male    london    Sam@gmail.com"
      ]
     },
     "execution_count": 42,
     "metadata": {},
     "output_type": "execute_result"
    }
   ],
   "source": [
    "new_Column_name='Gender'\n",
    "\n",
    "new_Column=['Female', 'Male', 'Male']\n",
    "\n",
    "#define the name and index where\n",
    "# you want to insert new coloumn\n",
    "insert_index=2\n",
    "df.insert(insert_index,new_Column_name,new_Column)\n",
    "df"
   ]
  },
  {
   "cell_type": "code",
   "execution_count": null,
   "id": "41bbe3c7-d96a-4199-8f41-667b7bf7d704",
   "metadata": {},
   "outputs": [],
   "source": []
  }
 ],
 "metadata": {
  "kernelspec": {
   "display_name": "Python 3 (ipykernel)",
   "language": "python",
   "name": "python3"
  },
  "language_info": {
   "codemirror_mode": {
    "name": "ipython",
    "version": 3
   },
   "file_extension": ".py",
   "mimetype": "text/x-python",
   "name": "python",
   "nbconvert_exporter": "python",
   "pygments_lexer": "ipython3",
   "version": "3.12.7"
  }
 },
 "nbformat": 4,
 "nbformat_minor": 5
}
