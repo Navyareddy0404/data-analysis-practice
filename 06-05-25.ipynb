{
 "cells": [
  {
   "cell_type": "markdown",
   "id": "a4656ccb-3c5a-468e-9c0a-e13be2ac83a1",
   "metadata": {},
   "source": [
    "# loops opearations on strings\n",
    "for loop \n",
    "while loop"
   ]
  },
  {
   "cell_type": "code",
   "execution_count": 1,
   "id": "12755ed6-8c47-431e-bbd9-6d11c96761b7",
   "metadata": {},
   "outputs": [
    {
     "name": "stdout",
     "output_type": "stream",
     "text": [
      "p\n",
      "y\n",
      "t\n",
      "h\n",
      "o\n",
      "n\n"
     ]
    }
   ],
   "source": [
    "# 1. for loop\n",
    "\n",
    "text='python'\n",
    "for char in text:\n",
    "    print(char)\n"
   ]
  },
  {
   "cell_type": "code",
   "execution_count": null,
   "id": "69ec1c14-705e-4d72-b417-1e5373ff5120",
   "metadata": {},
   "outputs": [],
   "source": [
    "text='hello'\n",
    "uppercase=''\n",
    "for char in text:\n",
    "    uppercase+=char.upper()\n",
    "    "
   ]
  },
  {
   "cell_type": "code",
   "execution_count": 3,
   "id": "005fadc3-b672-4b20-8e6d-5ea01d23d168",
   "metadata": {},
   "outputs": [
    {
     "data": {
      "text/plain": [
       "True"
      ]
     },
     "execution_count": 3,
     "metadata": {},
     "output_type": "execute_result"
    }
   ],
   "source": [
    "# membership operators on strings\n",
    "# in opearator (checking for )\n",
    "# syntax\n",
    "# substring in string\n",
    "text='hello world'\n",
    "'o' in text"
   ]
  },
  {
   "cell_type": "code",
   "execution_count": 4,
   "id": "39c953f2-8537-47a0-bb18-f989f762bb73",
   "metadata": {},
   "outputs": [
    {
     "data": {
      "text/plain": [
       "False"
      ]
     },
     "execution_count": 4,
     "metadata": {},
     "output_type": "execute_result"
    }
   ],
   "source": [
    "# not in operator(checks if substring does not exist in string)\n",
    "' ' not in text"
   ]
  },
  {
   "cell_type": "code",
   "execution_count": 5,
   "id": "e8546994-e1f7-4dbd-b565-0bcd77ff72e0",
   "metadata": {},
   "outputs": [
    {
     "data": {
      "text/plain": [
       "False"
      ]
     },
     "execution_count": 5,
     "metadata": {},
     "output_type": "execute_result"
    }
   ],
   "source": [
    "'e' not in text"
   ]
  },
  {
   "cell_type": "code",
   "execution_count": 6,
   "id": "d4d5a441-539f-44d3-8c2d-82e9bd43ff05",
   "metadata": {},
   "outputs": [
    {
     "data": {
      "text/plain": [
       "True"
      ]
     },
     "execution_count": 6,
     "metadata": {},
     "output_type": "execute_result"
    }
   ],
   "source": [
    "'x' not in text"
   ]
  },
  {
   "cell_type": "code",
   "execution_count": 16,
   "id": "ce292988-ffdb-4236-a0f0-2fab626b0467",
   "metadata": {},
   "outputs": [
    {
     "data": {
      "text/plain": [
       "True"
      ]
     },
     "execution_count": 16,
     "metadata": {},
     "output_type": "execute_result"
    }
   ],
   "source": [
    "text1=\"\"\" Python Collections (Arrays)\n",
    "There are four collection data types in the Python programming language:\n",
    "List is a collection which is ordered and changeable. Allows duplicate members.\n",
    "Tuple is a collection which is ordered and unchangeable. Allows duplicate members.\n",
    "Set is a collection which is unordered, unchangeable*, and unindexed. No duplicate members.\n",
    "Dictionary is a collection which is ordered** and changeable. No duplicate members\"\"\"\n",
    "'ordered' in text1\n"
   ]
  },
  {
   "cell_type": "code",
   "execution_count": 8,
   "id": "ddbf74ba-e8b7-4205-b919-3efafe4cfb09",
   "metadata": {},
   "outputs": [
    {
     "data": {
      "text/plain": [
       "False"
      ]
     },
     "execution_count": 8,
     "metadata": {},
     "output_type": "execute_result"
    }
   ],
   "source": [
    "'ordered' in text"
   ]
  },
  {
   "cell_type": "code",
   "execution_count": 17,
   "id": "570bcc19-5f31-420c-ba9f-2d2ae35d5c9d",
   "metadata": {},
   "outputs": [
    {
     "data": {
      "text/plain": [
       "True"
      ]
     },
     "execution_count": 17,
     "metadata": {},
     "output_type": "execute_result"
    }
   ],
   "source": [
    "\"duplicate\" in text1"
   ]
  },
  {
   "cell_type": "code",
   "execution_count": 18,
   "id": "b0820dd7-dac1-40c8-9efe-d021d9251d98",
   "metadata": {},
   "outputs": [
    {
     "data": {
      "text/plain": [
       "True"
      ]
     },
     "execution_count": 18,
     "metadata": {},
     "output_type": "execute_result"
    }
   ],
   "source": [
    "'ordered' in text1"
   ]
  },
  {
   "cell_type": "code",
   "execution_count": null,
   "id": "39514799-4063-4b35-8e4b-83362f1e6bcb",
   "metadata": {},
   "outputs": [],
   "source": [
    "uppercase\n",
    "lowercase\n",
    "title\n",
    "strip\n",
    "replace\n",
    "find\n",
    "count\n",
    "startswith\n",
    "endswith\n",
    "isdigit\n",
    "isalpha\n",
    "isupper\n",
    "rfind\n",
    "ascii\n",
    "len\n",
    "sort\n",
    "reverse"
   ]
  },
  {
   "cell_type": "code",
   "execution_count": 11,
   "id": "65f8911d-fda5-4e47-b0ee-bf9c6d7d65e1",
   "metadata": {},
   "outputs": [
    {
     "data": {
      "text/plain": [
       "False"
      ]
     },
     "execution_count": 11,
     "metadata": {},
     "output_type": "execute_result"
    }
   ],
   "source": [
    "text='hello'\n",
    "text1=text.isupper()\n",
    "text1"
   ]
  },
  {
   "cell_type": "code",
   "execution_count": 13,
   "id": "e228969f-152c-4bf9-80e4-d4d12fab5553",
   "metadata": {},
   "outputs": [
    {
     "data": {
      "text/plain": [
       "7"
      ]
     },
     "execution_count": 13,
     "metadata": {},
     "output_type": "execute_result"
    }
   ],
   "source": [
    "text='hello, hello, world'\n",
    "index=text.rfind('hello')\n",
    "index"
   ]
  },
  {
   "cell_type": "code",
   "execution_count": null,
   "id": "311a8a9a-9bb3-48f4-bdd8-2289ba1bc19d",
   "metadata": {},
   "outputs": [],
   "source": [
    "acess the string\n",
    "1.start with str\n",
    "use (.)\n",
    "then () bracket to cll the fun"
   ]
  },
  {
   "cell_type": "code",
   "execution_count": 3,
   "id": "b0dda869-6c36-4168-a847-a88576d5d92c",
   "metadata": {},
   "outputs": [
    {
     "data": {
      "text/plain": [
       "'navya'"
      ]
     },
     "execution_count": 3,
     "metadata": {},
     "output_type": "execute_result"
    }
   ],
   "source": [
    "text = \"navya\" #convert 1st letter to cap\n",
    "text.title()\n",
    "text\n"
   ]
  },
  {
   "cell_type": "code",
   "execution_count": 9,
   "id": "dfde00a5-c2d5-41b0-9979-d4ab7de4c43e",
   "metadata": {},
   "outputs": [
    {
     "data": {
      "text/plain": [
       "'navya'"
      ]
     },
     "execution_count": 9,
     "metadata": {},
     "output_type": "execute_result"
    }
   ],
   "source": [
    "# str.strip()   #removes unnecessary spaces\n",
    "text = \" navya \" \n",
    "text.strip()\n"
   ]
  },
  {
   "cell_type": "code",
   "execution_count": 10,
   "id": "f4f64712-affb-42ee-80b8-3f30e98575ec",
   "metadata": {},
   "outputs": [
    {
     "data": {
      "text/plain": [
       "'padma navya'"
      ]
     },
     "execution_count": 10,
     "metadata": {},
     "output_type": "execute_result"
    }
   ],
   "source": [
    "# srt.replace()\n",
    "\n",
    "text = \"padma priya\" \n",
    "text.replace(\"priya\" , \"navya\")"
   ]
  },
  {
   "cell_type": "code",
   "execution_count": 15,
   "id": "12868595-08e8-4293-8f9c-1a258345b407",
   "metadata": {},
   "outputs": [
    {
     "data": {
      "text/plain": [
       "['hello world this is ', ' split method']"
      ]
     },
     "execution_count": 15,
     "metadata": {},
     "output_type": "execute_result"
    }
   ],
   "source": [
    "# str.split(separator)\n",
    "text = \"hello world this is a split method\"\n",
    "text_split = text.split(\"a\")\n",
    "text_split"
   ]
  },
  {
   "cell_type": "code",
   "execution_count": 13,
   "id": "1b7cc7f1-b701-4480-8097-347781440ba9",
   "metadata": {},
   "outputs": [
    {
     "data": {
      "text/plain": [
       "['padma', 'priya']"
      ]
     },
     "execution_count": 13,
     "metadata": {},
     "output_type": "execute_result"
    }
   ],
   "source": [
    "value = \"padma priya\"\n",
    "split_text = value.split()\n",
    "split_text"
   ]
  },
  {
   "cell_type": "code",
   "execution_count": 16,
   "id": "bf250e49-8cbc-453f-9ba9-14a5952dfade",
   "metadata": {},
   "outputs": [
    {
     "data": {
      "text/plain": [
       "['hello world this is a split method']"
      ]
     },
     "execution_count": 16,
     "metadata": {},
     "output_type": "execute_result"
    }
   ],
   "source": [
    "text = \"hello world this is a split method\"\n",
    "text_split = text.split(\"!\")\n",
    "text_split"
   ]
  },
  {
   "cell_type": "code",
   "execution_count": 18,
   "id": "570be294-f68a-4b55-b2b1-494dd8727d25",
   "metadata": {},
   "outputs": [
    {
     "data": {
      "text/plain": [
       "'hello! world'"
      ]
     },
     "execution_count": 18,
     "metadata": {},
     "output_type": "execute_result"
    }
   ],
   "source": [
    "# str.join(itrerable)\n",
    "words = ['hello','world']\n",
    "joined_text = '! '.join(words)\n",
    "joined_text"
   ]
  },
  {
   "cell_type": "code",
   "execution_count": 19,
   "id": "699f2e10-9c75-4845-bb4f-dd78db0b082c",
   "metadata": {},
   "outputs": [
    {
     "data": {
      "text/plain": [
       "6"
      ]
     },
     "execution_count": 19,
     "metadata": {},
     "output_type": "execute_result"
    }
   ],
   "source": [
    "#str.find(substring) finds particular word\n",
    "text = \"hello world\"\n",
    "index = text.find(\"world\")\n",
    "index"
   ]
  },
  {
   "cell_type": "code",
   "execution_count": 20,
   "id": "eae3267e-29fe-49f6-a9d5-3225cfc8708d",
   "metadata": {},
   "outputs": [
    {
     "data": {
      "text/plain": [
       "3"
      ]
     },
     "execution_count": 20,
     "metadata": {},
     "output_type": "execute_result"
    }
   ],
   "source": [
    "# str.count() count no of same letters appeard\n",
    "word = \"hello world\"\n",
    "word_count= word.count(\"l\")\n",
    "word_count"
   ]
  },
  {
   "cell_type": "code",
   "execution_count": 21,
   "id": "027d7267-49dd-46af-a528-70ee01c06b52",
   "metadata": {},
   "outputs": [
    {
     "data": {
      "text/plain": [
       "False"
      ]
     },
     "execution_count": 21,
     "metadata": {},
     "output_type": "execute_result"
    }
   ],
   "source": [
    "# str.starts with()\n",
    "word = \"hello world\"\n",
    "word. startswith(\"world\")"
   ]
  },
  {
   "cell_type": "code",
   "execution_count": 22,
   "id": "3c7ebe63-06cf-4967-adb0-8754fee30007",
   "metadata": {},
   "outputs": [
    {
     "data": {
      "text/plain": [
       "True"
      ]
     },
     "execution_count": 22,
     "metadata": {},
     "output_type": "execute_result"
    }
   ],
   "source": [
    "# endswith(sub)\n",
    "text = \"hello world\"\n",
    "text.endswith(\"ld\")"
   ]
  },
  {
   "cell_type": "code",
   "execution_count": 23,
   "id": "3c54c543-3b5e-427d-8b32-8fe156684059",
   "metadata": {},
   "outputs": [
    {
     "data": {
      "text/plain": [
       "True"
      ]
     },
     "execution_count": 23,
     "metadata": {},
     "output_type": "execute_result"
    }
   ],
   "source": [
    "#str.isdigit() #returns true if digit are in str\n",
    "text =\"002\"\n",
    "text.isdigit()"
   ]
  },
  {
   "cell_type": "code",
   "execution_count": 24,
   "id": "b05a8a88-fa69-4e94-8de8-5d02efe3500a",
   "metadata": {},
   "outputs": [
    {
     "data": {
      "text/plain": [
       "True"
      ]
     },
     "execution_count": 24,
     "metadata": {},
     "output_type": "execute_result"
    }
   ],
   "source": [
    "#is.alpha() returns true if all char in str are alphabetic\n",
    "text = \"hello\"\n",
    "text.isalpha()"
   ]
  },
  {
   "cell_type": "code",
   "execution_count": 25,
   "id": "24882529-688f-43fe-ac71-0e5b171281bf",
   "metadata": {},
   "outputs": [
    {
     "data": {
      "text/plain": [
       "True"
      ]
     },
     "execution_count": 25,
     "metadata": {},
     "output_type": "execute_result"
    }
   ],
   "source": [
    "# str.islower() # returs true if all char r small\n",
    "\n",
    "text = \"hello\"\n",
    "text.islower()"
   ]
  },
  {
   "cell_type": "code",
   "execution_count": 26,
   "id": "33840d0e-404e-45db-8740-efe23739c044",
   "metadata": {},
   "outputs": [
    {
     "data": {
      "text/plain": [
       "True"
      ]
     },
     "execution_count": 26,
     "metadata": {},
     "output_type": "execute_result"
    }
   ],
   "source": [
    "# str.isupper #eturs true if all char r cap\n",
    "text = \"HELLO\"\n",
    "text.isupper()"
   ]
  },
  {
   "cell_type": "code",
   "execution_count": 27,
   "id": "413dfa65-4ff8-4f12-b681-dbe1ca25c39d",
   "metadata": {},
   "outputs": [
    {
     "data": {
      "text/plain": [
       "'000042'"
      ]
     },
     "execution_count": 27,
     "metadata": {},
     "output_type": "execute_result"
    }
   ],
   "source": [
    "# str.zfill(width) #pads the str with zero on  the left, to make the str of the specified width isme 0 add hota jo num deko rate use fill karne\n",
    "text = '42'\n",
    "pad_text = text.zfill(6)\n",
    "pad_text"
   ]
  },
  {
   "cell_type": "code",
   "execution_count": 28,
   "id": "73bec9b4-0026-4143-a92a-b63c3437afce",
   "metadata": {},
   "outputs": [
    {
     "data": {
      "text/plain": [
       "13"
      ]
     },
     "execution_count": 28,
     "metadata": {},
     "output_type": "execute_result"
    }
   ],
   "source": [
    "# str.rfind(substring)\n",
    "#finds the highest index wr the substr is found , returns -1 if the str is not found\n",
    "text = \" hello hello world\"\n",
    "index = text.rfind(\"world\")\n",
    "index"
   ]
  },
  {
   "cell_type": "markdown",
   "id": "8415af5d-5171-4e6a-b57e-8a807563951a",
   "metadata": {},
   "source": [
    "# common function"
   ]
  },
  {
   "cell_type": "code",
   "execution_count": 29,
   "id": "afc20850-afd2-4d7b-b642-41216536c226",
   "metadata": {},
   "outputs": [
    {
     "data": {
      "text/plain": [
       "['apple', 'banana', 'cherry']"
      ]
     },
     "execution_count": 29,
     "metadata": {},
     "output_type": "execute_result"
    }
   ],
   "source": [
    "#1. min\n",
    "words = [\"apple\", \"banana\", \"cherry\"]\n",
    "smallest_char = min(words)\n",
    "words"
   ]
  },
  {
   "cell_type": "code",
   "execution_count": 30,
   "id": "db16bfd7-42ec-4299-9190-aad730db9dc6",
   "metadata": {},
   "outputs": [
    {
     "data": {
      "text/plain": [
       "18"
      ]
     },
     "execution_count": 30,
     "metadata": {},
     "output_type": "execute_result"
    }
   ],
   "source": [
    "#max()\n",
    "#len()\n",
    "text = \" hello hello world\"\n",
    "len(text)"
   ]
  },
  {
   "cell_type": "code",
   "execution_count": 31,
   "id": "73f71ded-f005-47a6-b5f4-e7c2259b0213",
   "metadata": {},
   "outputs": [
    {
     "data": {
      "text/plain": [
       "'cherry'"
      ]
     },
     "execution_count": 31,
     "metadata": {},
     "output_type": "execute_result"
    }
   ],
   "source": [
    "max(words)"
   ]
  },
  {
   "cell_type": "code",
   "execution_count": 32,
   "id": "ede1bea8-1c62-4cf2-9459-4ed278579fa4",
   "metadata": {},
   "outputs": [
    {
     "data": {
      "text/plain": [
       "'apple'"
      ]
     },
     "execution_count": 32,
     "metadata": {},
     "output_type": "execute_result"
    }
   ],
   "source": [
    "smallest_char"
   ]
  },
  {
   "cell_type": "code",
   "execution_count": 33,
   "id": "4780a02b-ff57-478d-ad71-33649ce06a4b",
   "metadata": {},
   "outputs": [
    {
     "data": {
      "text/plain": [
       "[2, 4, 6, 8]"
      ]
     },
     "execution_count": 33,
     "metadata": {},
     "output_type": "execute_result"
    }
   ],
   "source": [
    "#sorted\n",
    "list = [2,8,4,6]\n",
    "sorted(list)"
   ]
  },
  {
   "cell_type": "code",
   "execution_count": 34,
   "id": "cdfd3cda-3e5a-47e5-98b2-f1629a00606f",
   "metadata": {},
   "outputs": [
    {
     "data": {
      "text/plain": [
       "'dlrow olleh olleh '"
      ]
     },
     "execution_count": 34,
     "metadata": {},
     "output_type": "execute_result"
    }
   ],
   "source": [
    "#reversed\n",
    "text = \" hello hello world\"\n",
    "rev_text = ''.join(reversed(text))\n",
    "rev_text"
   ]
  },
  {
   "cell_type": "code",
   "execution_count": 35,
   "id": "09ffe829-70be-4b9f-88bf-9edc43bcc7b4",
   "metadata": {},
   "outputs": [
    {
     "data": {
      "text/plain": [
       "True"
      ]
     },
     "execution_count": 35,
     "metadata": {},
     "output_type": "execute_result"
    }
   ],
   "source": [
    "#all\n",
    "text =\"123456\"\n",
    "all_digit = all(char.isdigit() for char in text)\n",
    "all_digit"
   ]
  },
  {
   "cell_type": "code",
   "execution_count": 36,
   "id": "f9f97a69-d3c2-4d11-bd1f-f7a71cfa0373",
   "metadata": {},
   "outputs": [
    {
     "data": {
      "text/plain": [
       "True"
      ]
     },
     "execution_count": 36,
     "metadata": {},
     "output_type": "execute_result"
    }
   ],
   "source": [
    "#any\n",
    "text =\"123456\"\n",
    "all_digit = any(char.isdigit() for char in text)\n",
    "all_digit"
   ]
  },
  {
   "cell_type": "code",
   "execution_count": 37,
   "id": "0e3725e2-f991-4a54-8ce0-6d396c23db33",
   "metadata": {},
   "outputs": [
    {
     "data": {
      "text/plain": [
       "137"
      ]
     },
     "execution_count": 37,
     "metadata": {},
     "output_type": "execute_result"
    }
   ],
   "source": [
    "#sum\n",
    "num = [11,74,52]\n",
    "total = sum(num)\n",
    "total"
   ]
  },
  {
   "cell_type": "code",
   "execution_count": 38,
   "id": "545bb115-680c-4a81-8b06-3b9222bbc70c",
   "metadata": {},
   "outputs": [
    {
     "name": "stdout",
     "output_type": "stream",
     "text": [
      " Hello, john ! Welcome to python world!\n"
     ]
    }
   ],
   "source": [
    "#senario\n",
    "name = \"john\"\n",
    "print(f\" Hello, {name} ! Welcome to python world!\")"
   ]
  },
  {
   "cell_type": "code",
   "execution_count": 39,
   "id": "5b909d11-eecc-4030-b318-69aa4ff4a164",
   "metadata": {},
   "outputs": [
    {
     "data": {
      "text/plain": [
       "'john Deo'"
      ]
     },
     "execution_count": 39,
     "metadata": {},
     "output_type": "execute_result"
    }
   ],
   "source": [
    "#senario 2\n",
    "first_name =\"john\"\n",
    "second_name =\"Deo\"\n",
    "full_name = \"john\"  +\" \"  +   \"Deo\"\n",
    "full_name"
   ]
  },
  {
   "cell_type": "code",
   "execution_count": null,
   "id": "7f4c8447-9975-4e36-afbb-bab8a543f61f",
   "metadata": {},
   "outputs": [],
   "source": []
  }
 ],
 "metadata": {
  "kernelspec": {
   "display_name": "Python 3 (ipykernel)",
   "language": "python",
   "name": "python3"
  },
  "language_info": {
   "codemirror_mode": {
    "name": "ipython",
    "version": 3
   },
   "file_extension": ".py",
   "mimetype": "text/x-python",
   "name": "python",
   "nbconvert_exporter": "python",
   "pygments_lexer": "ipython3",
   "version": "3.12.7"
  }
 },
 "nbformat": 4,
 "nbformat_minor": 5
}
