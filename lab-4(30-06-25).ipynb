{
 "cells": [
  {
   "cell_type": "markdown",
   "id": "eabbe212-5000-4295-b06d-9d8d82f777f8",
   "metadata": {},
   "source": [
    "# Lab-4"
   ]
  },
  {
   "cell_type": "markdown",
   "id": "a3a09544-4dbe-4482-a9f2-85c123105030",
   "metadata": {},
   "source": [
    "### 1. 1. Declare a div() function with two parameters. Then call the function and pass two numbers and display their division."
   ]
  },
  {
   "cell_type": "code",
   "execution_count": 1,
   "id": "62613c16-3c21-43c9-9a88-264964da1672",
   "metadata": {},
   "outputs": [
    {
     "name": "stdout",
     "output_type": "stream",
     "text": [
      "division result: 5.0\n"
     ]
    }
   ],
   "source": [
    "def div(a,b):\n",
    "    if b!=0:\n",
    "        print(\"division result:\",a/b)\n",
    "    else:\n",
    "        print(\"cannot divide by zero!\")\n",
    "\n",
    "num1=10\n",
    "num2=2\n",
    "\n",
    "div(num1,num2)"
   ]
  },
  {
   "cell_type": "code",
   "execution_count": null,
   "id": "70b1224c-3064-4009-8965-3ed888e7b6c1",
   "metadata": {},
   "outputs": [],
   "source": [
    "or"
   ]
  },
  {
   "cell_type": "code",
   "execution_count": 2,
   "id": "7b2e2b2e-5a5a-4266-9aa1-8e5dbcc796bf",
   "metadata": {},
   "outputs": [
    {
     "name": "stdin",
     "output_type": "stream",
     "text": [
      "enter first number: 12\n",
      "enter second number: 2\n"
     ]
    },
    {
     "name": "stdout",
     "output_type": "stream",
     "text": [
      "division result: 6.0\n"
     ]
    }
   ],
   "source": [
    "def div(a,b):\n",
    "    if b!=0:\n",
    "        print(\"division result:\",a/b)\n",
    "    else:\n",
    "        print(\"cannot divide by zero!\")\n",
    "\n",
    "num1=float(input(\"enter first number:\"))\n",
    "num2=float(input(\"enter second number:\"))\n",
    "\n",
    "div(num1,num2)"
   ]
  },
  {
   "cell_type": "markdown",
   "id": "c6443e33-9f91-4b64-baad-9ec7993740b5",
   "metadata": {},
   "source": [
    "### 2. Declare a square() function with one parameter. Then call the function and pass one number and display the square of that number."
   ]
  },
  {
   "cell_type": "code",
   "execution_count": 3,
   "id": "92ecf76c-a42e-4c9b-b533-e54b085fcf05",
   "metadata": {},
   "outputs": [
    {
     "name": "stdout",
     "output_type": "stream",
     "text": [
      "square of  4 is 16\n"
     ]
    }
   ],
   "source": [
    "def square(n):\n",
    "    print(\"square of \",n,\"is\",n**2)\n",
    "\n",
    "square(4)"
   ]
  },
  {
   "cell_type": "code",
   "execution_count": 5,
   "id": "1c3db6d2-1514-4b79-a8c7-ca39072f9e32",
   "metadata": {},
   "outputs": [
    {
     "name": "stdin",
     "output_type": "stream",
     "text": [
      "enter a number: 6\n"
     ]
    },
    {
     "name": "stdout",
     "output_type": "stream",
     "text": [
      "square of  6 is 36\n"
     ]
    }
   ],
   "source": [
    "def square(n):\n",
    "    print(\"square of \",n,\"is\",n**2)\n",
    "\n",
    "num = int(input(\"enter a number:\"))\n",
    "square(num)"
   ]
  },
  {
   "cell_type": "markdown",
   "id": "ac940352-f70f-4cc5-8d98-5df822f203ba",
   "metadata": {},
   "source": [
    "### 3. Using max() and min() functions display the maximum and minimum of random numbers."
   ]
  },
  {
   "cell_type": "code",
   "execution_count": 6,
   "id": "c0a63632-1d2d-40a0-ac02-5b79c81917ca",
   "metadata": {},
   "outputs": [
    {
     "name": "stdout",
     "output_type": "stream",
     "text": [
      "random numbers are:  [59, 17, 69, 95, 1]\n",
      "Maximum number: 95\n",
      "Minimum number: 1\n"
     ]
    }
   ],
   "source": [
    "import random\n",
    "\n",
    "numbers=[]\n",
    "\n",
    "for i in range(5):\n",
    "    num = random.randint(1,100)\n",
    "    numbers.append(num)\n",
    "\n",
    "print(\"random numbers are: \",numbers)\n",
    "\n",
    "max_num=max(numbers)\n",
    "min_num=min(numbers)\n",
    "\n",
    "print(\"Maximum number:\",max_num)\n",
    "print(\"Minimum number:\",min_num)"
   ]
  },
  {
   "cell_type": "markdown",
   "id": "656796f1-a97f-4fa0-9c88-45e42d0157b2",
   "metadata": {},
   "source": [
    "### 4. Accept a name from the user and display that in lower case using lower() function"
   ]
  },
  {
   "cell_type": "code",
   "execution_count": 7,
   "id": "8175c5e3-264a-4794-876c-178d4239774d",
   "metadata": {},
   "outputs": [
    {
     "name": "stdin",
     "output_type": "stream",
     "text": [
      "enter your name: NAVYA\n"
     ]
    },
    {
     "name": "stdout",
     "output_type": "stream",
     "text": [
      "name in lower case=  navya\n"
     ]
    }
   ],
   "source": [
    "def covert_to_lowee(name):\n",
    "    return name.lower()\n",
    "\n",
    "user_input=input(\"enter your name:\")\n",
    "\n",
    "lowercase_name = covert_to_lowee(user_input)\n",
    "\n",
    "print(\"name in lower case= \",lowercase_name)\n",
    "    "
   ]
  },
  {
   "cell_type": "code",
   "execution_count": null,
   "id": "48f8d3ea-9b71-460f-8a1f-6f7d7b3e66d2",
   "metadata": {},
   "outputs": [],
   "source": [
    "or"
   ]
  },
  {
   "cell_type": "code",
   "execution_count": 8,
   "id": "a5a4b05f-0151-436e-a192-9d7f3c7428d8",
   "metadata": {},
   "outputs": [
    {
     "name": "stdin",
     "output_type": "stream",
     "text": [
      "enter your name:  NAVYA\n"
     ]
    },
    {
     "name": "stdout",
     "output_type": "stream",
     "text": [
      "name in lower case:  navya\n"
     ]
    }
   ],
   "source": [
    "name = input(\"enter your name: \")\n",
    "print(\"name in lower case: \",name.lower())"
   ]
  },
  {
   "cell_type": "code",
   "execution_count": null,
   "id": "d1ee3b82-d84b-41f2-ba32-c4361ebe2162",
   "metadata": {},
   "outputs": [],
   "source": []
  }
 ],
 "metadata": {
  "kernelspec": {
   "display_name": "Python 3 (ipykernel)",
   "language": "python",
   "name": "python3"
  },
  "language_info": {
   "codemirror_mode": {
    "name": "ipython",
    "version": 3
   },
   "file_extension": ".py",
   "mimetype": "text/x-python",
   "name": "python",
   "nbconvert_exporter": "python",
   "pygments_lexer": "ipython3",
   "version": "3.12.7"
  }
 },
 "nbformat": 4,
 "nbformat_minor": 5
}
